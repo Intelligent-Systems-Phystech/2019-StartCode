{
 "cells": [
  {
   "cell_type": "code",
   "execution_count": 147,
   "metadata": {},
   "outputs": [],
   "source": [
    "import numpy as np\n",
    "from numpy import sin\n",
    "import holidays\n",
    "from numpy.linalg import inv\n",
    "from tqdm import tqdm_notebook as tqdm\n",
    "import pandas as pd\n",
    "import matplotlib.pyplot as plt\n",
    "import datetime\n",
    "from random import random\n",
    "from random import sample\n",
    "%matplotlib inline"
   ]
  },
  {
   "cell_type": "code",
   "execution_count": 98,
   "metadata": {},
   "outputs": [],
   "source": [
    "def get_weights(A, y):\n",
    "    return inv(A.T@A)@A.T@y"
   ]
  },
  {
   "cell_type": "code",
   "execution_count": 233,
   "metadata": {},
   "outputs": [],
   "source": [
    "def get_error(A_train, A_test, y_train, y_test):\n",
    "    w = get_weights(A_train, y)\n",
    "    Y = A_test@w\n",
    "    r = y - Y\n",
    "    return r"
   ]
  },
  {
   "cell_type": "code",
   "execution_count": 234,
   "metadata": {},
   "outputs": [
    {
     "name": "stdout",
     "output_type": "stream",
     "text": [
      "Данные по энергопотреблению за 364 days 23:00:00\n"
     ]
    },
    {
     "data": {
      "text/html": [
       "<div>\n",
       "<style scoped>\n",
       "    .dataframe tbody tr th:only-of-type {\n",
       "        vertical-align: middle;\n",
       "    }\n",
       "\n",
       "    .dataframe tbody tr th {\n",
       "        vertical-align: top;\n",
       "    }\n",
       "\n",
       "    .dataframe thead th {\n",
       "        text-align: right;\n",
       "    }\n",
       "</style>\n",
       "<table border=\"1\" class=\"dataframe\">\n",
       "  <thead>\n",
       "    <tr style=\"text-align: right;\">\n",
       "      <th></th>\n",
       "      <th>Date</th>\n",
       "      <th>WeekDay</th>\n",
       "      <th>Hour</th>\n",
       "      <th>ConsumprionMWtH</th>\n",
       "      <th>TemperatureC</th>\n",
       "    </tr>\n",
       "  </thead>\n",
       "  <tbody>\n",
       "    <tr>\n",
       "      <th>0</th>\n",
       "      <td>2005-01-01 00:00:00</td>\n",
       "      <td>6</td>\n",
       "      <td>00:00:00</td>\n",
       "      <td>1289.617859</td>\n",
       "      <td>-10.676569</td>\n",
       "    </tr>\n",
       "    <tr>\n",
       "      <th>1</th>\n",
       "      <td>2005-01-01 01:00:00</td>\n",
       "      <td>6</td>\n",
       "      <td>01:00:00</td>\n",
       "      <td>1265.573853</td>\n",
       "      <td>-12.041959</td>\n",
       "    </tr>\n",
       "    <tr>\n",
       "      <th>2</th>\n",
       "      <td>2005-01-01 02:00:00</td>\n",
       "      <td>6</td>\n",
       "      <td>02:00:00</td>\n",
       "      <td>1273.188232</td>\n",
       "      <td>-13.198006</td>\n",
       "    </tr>\n",
       "    <tr>\n",
       "      <th>3</th>\n",
       "      <td>2005-01-01 03:00:00</td>\n",
       "      <td>6</td>\n",
       "      <td>03:00:00</td>\n",
       "      <td>1279.703979</td>\n",
       "      <td>-13.999279</td>\n",
       "    </tr>\n",
       "    <tr>\n",
       "      <th>4</th>\n",
       "      <td>2005-01-01 04:00:00</td>\n",
       "      <td>6</td>\n",
       "      <td>04:00:00</td>\n",
       "      <td>1292.839539</td>\n",
       "      <td>-14.782819</td>\n",
       "    </tr>\n",
       "  </tbody>\n",
       "</table>\n",
       "</div>"
      ],
      "text/plain": [
       "                 Date  WeekDay      Hour  ConsumprionMWtH  TemperatureC\n",
       "0 2005-01-01 00:00:00        6  00:00:00      1289.617859    -10.676569\n",
       "1 2005-01-01 01:00:00        6  01:00:00      1265.573853    -12.041959\n",
       "2 2005-01-01 02:00:00        6  02:00:00      1273.188232    -13.198006\n",
       "3 2005-01-01 03:00:00        6  03:00:00      1279.703979    -13.999279\n",
       "4 2005-01-01 04:00:00        6  04:00:00      1292.839539    -14.782819"
      ]
     },
     "execution_count": 234,
     "metadata": {},
     "output_type": "execute_result"
    }
   ],
   "source": [
    "data = pd.read_excel(\"/home/andreizoltan/ml/1/EnergyConsumption.xls\")\n",
    "print(\"Данные по энергопотреблению за {}\".format(data['Date'].max()-data['Date'].min()))\n",
    "data.head()"
   ]
  },
  {
   "cell_type": "code",
   "execution_count": 235,
   "metadata": {},
   "outputs": [],
   "source": [
    "n_train = int(0.8*data.shape[0])\n",
    "data_train = data[:n_train]\n",
    "data_test = data[n_train:]"
   ]
  },
  {
   "cell_type": "code",
   "execution_count": 236,
   "metadata": {},
   "outputs": [],
   "source": [
    "h = data_train['Hour'].apply(lambda x: x.hour)\n",
    "d = data_train['WeekDay']\n",
    "m = data_train['Date'].apply(lambda x: x.dayofyear)\n",
    "t = data_train['TemperatureC']\n",
    "y_train = data_train['ConsumprionMWtH']\n",
    "x_train = np.linspace(0, 1, y_train.shape[0])"
   ]
  },
  {
   "cell_type": "markdown",
   "metadata": {},
   "source": [
    "### нормировка"
   ]
  },
  {
   "cell_type": "code",
   "execution_count": 237,
   "metadata": {},
   "outputs": [],
   "source": [
    "h = (h - np.mean(h))/np.std(h)\n",
    "d = (d - np.mean(d))/np.std(d)\n",
    "m = (m - np.mean(m))/np.std(m)\n",
    "t = (t - np.mean(t))/np.std(t)\n",
    "y_train = (y_train - np.mean(y_train))/np.std(y_train)"
   ]
  },
  {
   "cell_type": "code",
   "execution_count": 238,
   "metadata": {},
   "outputs": [],
   "source": [
    "def is_holiday(day):\n",
    "    russia_holidays = holidays.Russia()\n",
    "    day = day.date()\n",
    "    if day in russia_holidays:\n",
    "        return 1\n",
    "    else:\n",
    "        return -1"
   ]
  },
  {
   "cell_type": "code",
   "execution_count": 301,
   "metadata": {},
   "outputs": [],
   "source": [
    "def get_model_matrix(h, d, m, t, holiday):\n",
    "    A = np.column_stack((ones, h, h**2, np.arcsinh(h), np.log(abs(h)), x*np.sqrt(x),\\\n",
    "                     sin(omega*h + 0.2), sin(omega*h/2), sin(omega*h*4),\\\n",
    "                     d, d**2, sin(327*d), sin(250*d),np.sin(29*d),\\\n",
    "                     m, m**2, m**3, sin(m), np.log(abs(m)+1),          \\\n",
    "                     t, t**3, np.sinh(t), np.log(abs(t)),\\\n",
    "                     holiday\n",
    "                     ))\n",
    "    return A"
   ]
  },
  {
   "cell_type": "code",
   "execution_count": 296,
   "metadata": {},
   "outputs": [],
   "source": [
    "ones = np.ones(y_train.shape[0])\n",
    "holiday = data['Date'][:x_train.shape[0]].apply(lambda x: is_holiday(x))\n",
    "omega = 2*np.pi/(2/365)\n",
    "A = np.column_stack((ones, h, h**2, np.arcsinh(h), np.log(abs(h)),\\\n",
    "                     sin(omega*h + 0.2), sin(omega*h/2), sin(omega*h*4),\\\n",
    "                     d, d**2, sin(327*d), sin(250*d),np.sin(29*d),\\\n",
    "                     m, m**2, m**3, sin(m), np.log(abs(m)+1),          \\\n",
    "                     t, t**3, np.sinh(t), np.log(abs(t)),\\\n",
    "                     holiday\n",
    "                     ))"
   ]
  },
  {
   "cell_type": "markdown",
   "metadata": {},
   "source": [
    "### Let set the parameters of the algorithm"
   ]
  },
  {
   "cell_type": "code",
   "execution_count": 240,
   "metadata": {},
   "outputs": [],
   "source": [
    "P = 20\n",
    "Q = 5\n",
    "R = 40\n",
    "n = A.shape[1]"
   ]
  },
  {
   "cell_type": "code",
   "execution_count": 261,
   "metadata": {},
   "outputs": [
    {
     "data": {
      "text/plain": [
       "23"
      ]
     },
     "execution_count": 261,
     "metadata": {},
     "output_type": "execute_result"
    }
   ],
   "source": [
    "n"
   ]
  },
  {
   "cell_type": "markdown",
   "metadata": {},
   "source": [
    "### 1. Choose population"
   ]
  },
  {
   "cell_type": "code",
   "execution_count": 297,
   "metadata": {},
   "outputs": [],
   "source": [
    "A_population = np.random.randint(low=0, high=2, size=(P, n))"
   ]
  },
  {
   "cell_type": "markdown",
   "metadata": {},
   "source": [
    "### 2. get 2 vectors"
   ]
  },
  {
   "cell_type": "code",
   "execution_count": 268,
   "metadata": {},
   "outputs": [],
   "source": [
    "p, q = sample(range(n), 2)\n",
    "a, b = A_population[p], A_population[q]"
   ]
  },
  {
   "cell_type": "markdown",
   "metadata": {},
   "source": [
    "### 3. choose random number $\\nu$"
   ]
  },
  {
   "cell_type": "code",
   "execution_count": 269,
   "metadata": {},
   "outputs": [],
   "source": [
    "u = np.random.randint(n)"
   ]
  },
  {
   "cell_type": "markdown",
   "metadata": {},
   "source": [
    "### 4. split both vectors and change their parts"
   ]
  },
  {
   "cell_type": "code",
   "execution_count": 270,
   "metadata": {},
   "outputs": [],
   "source": [
    "def swap(a, b, u):\n",
    "    return np.concatenate((b[:u], a[u:])), np.concatenate((a[:u], b[u:]))"
   ]
  },
  {
   "cell_type": "code",
   "execution_count": 271,
   "metadata": {},
   "outputs": [],
   "source": [
    "a, b = swap(a, b, u)"
   ]
  },
  {
   "cell_type": "markdown",
   "metadata": {},
   "source": [
    "### 5. choose random numbers $\\eta_{1}, ..., \\eta_{Q}$"
   ]
  },
  {
   "cell_type": "code",
   "execution_count": 272,
   "metadata": {},
   "outputs": [],
   "source": [
    "ns = sample(range(n), Q)"
   ]
  },
  {
   "cell_type": "markdown",
   "metadata": {},
   "source": [
    "### 6. invert positions $\\eta_{1}, ..., \\eta_{Q}$ of the vectors a', b'"
   ]
  },
  {
   "cell_type": "code",
   "execution_count": 273,
   "metadata": {},
   "outputs": [],
   "source": [
    "def swap_positions(a, b, ns):\n",
    "    for i in ns:\n",
    "        a[i], b[i] = b[i], a[i]\n",
    "    return a, b"
   ]
  },
  {
   "cell_type": "code",
   "execution_count": 274,
   "metadata": {},
   "outputs": [],
   "source": [
    "a, b = swap_positions(a, b, ns)"
   ]
  },
  {
   "cell_type": "markdown",
   "metadata": {},
   "source": [
    "### 7. repeat 2-6 P/2 times"
   ]
  },
  {
   "cell_type": "code",
   "execution_count": 283,
   "metadata": {},
   "outputs": [],
   "source": [
    "def from2to6(A):\n",
    "    p, q = sample(range(n), 2)               # first step\n",
    "    a, b = A[p], A[q]\n",
    "    u = np.random.randint(n)                 # second step\n",
    "    a, b = swap(a, b, u)                     # third step\n",
    "    ns = sample(range(n), Q)                 # fourth step\n",
    "    a, b = swap_positions(a, b, ns)          # fifth step\n",
    "    return a, b"
   ]
  },
  {
   "cell_type": "code",
   "execution_count": 298,
   "metadata": {},
   "outputs": [],
   "source": [
    "for i in range(int(P/2)):\n",
    "    a, b = from2to6(A_population)\n",
    "    A_population = np.vstack((A_population, a, b))"
   ]
  },
  {
   "cell_type": "code",
   "execution_count": 299,
   "metadata": {},
   "outputs": [
    {
     "data": {
      "text/plain": [
       "(40, 23)"
      ]
     },
     "execution_count": 299,
     "metadata": {},
     "output_type": "execute_result"
    }
   ],
   "source": [
    "A_population.shape"
   ]
  },
  {
   "cell_type": "markdown",
   "metadata": {},
   "source": [
    "### evaluate obtained models and repeate R times"
   ]
  },
  {
   "cell_type": "code",
   "execution_count": null,
   "metadata": {},
   "outputs": [],
   "source": [
    "del_models = list()\n",
    "for i in range(int(P)):\n",
    "    error = get_error(A_population[i], y_train)"
   ]
  }
 ],
 "metadata": {
  "kernelspec": {
   "display_name": "Python 3",
   "language": "python",
   "name": "python3"
  },
  "language_info": {
   "codemirror_mode": {
    "name": "ipython",
    "version": 3
   },
   "file_extension": ".py",
   "mimetype": "text/x-python",
   "name": "python",
   "nbconvert_exporter": "python",
   "pygments_lexer": "ipython3",
   "version": "3.6.8"
  }
 },
 "nbformat": 4,
 "nbformat_minor": 2
}
