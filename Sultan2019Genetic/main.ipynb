{
 "cells": [
  {
   "cell_type": "code",
   "execution_count": 147,
   "metadata": {},
   "outputs": [],
   "source": [
    "import numpy as np\n",
    "from numpy import sin\n",
    "import holidays\n",
    "from numpy.linalg import inv\n",
    "from tqdm import tqdm_notebook as tqdm\n",
    "import pandas as pd\n",
    "import matplotlib.pyplot as plt\n",
    "import datetime\n",
    "from random import random\n",
    "from random import sample\n",
    "%matplotlib inline"
   ]
  },
  {
   "cell_type": "code",
   "execution_count": 348,
   "metadata": {},
   "outputs": [],
   "source": [
    "def get_weights(A, y):\n",
    "    return np.linalg.pinv(A)@y\n",
    "    #return inv(A.T@A)@A.T@y"
   ]
  },
  {
   "cell_type": "code",
   "execution_count": 382,
   "metadata": {},
   "outputs": [],
   "source": [
    "def get_error(A_train, A_test, y_train, y_test):\n",
    "    w = get_weights(A_train, y_train)\n",
    "    Y = A_test@w\n",
    "    r = y_test - Y\n",
    "    return np.sqrt(np.mean((y_test - Y)**2))"
   ]
  },
  {
   "cell_type": "code",
   "execution_count": 234,
   "metadata": {},
   "outputs": [
    {
     "name": "stdout",
     "output_type": "stream",
     "text": [
      "Данные по энергопотреблению за 364 days 23:00:00\n"
     ]
    },
    {
     "data": {
      "text/html": [
       "<div>\n",
       "<style scoped>\n",
       "    .dataframe tbody tr th:only-of-type {\n",
       "        vertical-align: middle;\n",
       "    }\n",
       "\n",
       "    .dataframe tbody tr th {\n",
       "        vertical-align: top;\n",
       "    }\n",
       "\n",
       "    .dataframe thead th {\n",
       "        text-align: right;\n",
       "    }\n",
       "</style>\n",
       "<table border=\"1\" class=\"dataframe\">\n",
       "  <thead>\n",
       "    <tr style=\"text-align: right;\">\n",
       "      <th></th>\n",
       "      <th>Date</th>\n",
       "      <th>WeekDay</th>\n",
       "      <th>Hour</th>\n",
       "      <th>ConsumprionMWtH</th>\n",
       "      <th>TemperatureC</th>\n",
       "    </tr>\n",
       "  </thead>\n",
       "  <tbody>\n",
       "    <tr>\n",
       "      <th>0</th>\n",
       "      <td>2005-01-01 00:00:00</td>\n",
       "      <td>6</td>\n",
       "      <td>00:00:00</td>\n",
       "      <td>1289.617859</td>\n",
       "      <td>-10.676569</td>\n",
       "    </tr>\n",
       "    <tr>\n",
       "      <th>1</th>\n",
       "      <td>2005-01-01 01:00:00</td>\n",
       "      <td>6</td>\n",
       "      <td>01:00:00</td>\n",
       "      <td>1265.573853</td>\n",
       "      <td>-12.041959</td>\n",
       "    </tr>\n",
       "    <tr>\n",
       "      <th>2</th>\n",
       "      <td>2005-01-01 02:00:00</td>\n",
       "      <td>6</td>\n",
       "      <td>02:00:00</td>\n",
       "      <td>1273.188232</td>\n",
       "      <td>-13.198006</td>\n",
       "    </tr>\n",
       "    <tr>\n",
       "      <th>3</th>\n",
       "      <td>2005-01-01 03:00:00</td>\n",
       "      <td>6</td>\n",
       "      <td>03:00:00</td>\n",
       "      <td>1279.703979</td>\n",
       "      <td>-13.999279</td>\n",
       "    </tr>\n",
       "    <tr>\n",
       "      <th>4</th>\n",
       "      <td>2005-01-01 04:00:00</td>\n",
       "      <td>6</td>\n",
       "      <td>04:00:00</td>\n",
       "      <td>1292.839539</td>\n",
       "      <td>-14.782819</td>\n",
       "    </tr>\n",
       "  </tbody>\n",
       "</table>\n",
       "</div>"
      ],
      "text/plain": [
       "                 Date  WeekDay      Hour  ConsumprionMWtH  TemperatureC\n",
       "0 2005-01-01 00:00:00        6  00:00:00      1289.617859    -10.676569\n",
       "1 2005-01-01 01:00:00        6  01:00:00      1265.573853    -12.041959\n",
       "2 2005-01-01 02:00:00        6  02:00:00      1273.188232    -13.198006\n",
       "3 2005-01-01 03:00:00        6  03:00:00      1279.703979    -13.999279\n",
       "4 2005-01-01 04:00:00        6  04:00:00      1292.839539    -14.782819"
      ]
     },
     "execution_count": 234,
     "metadata": {},
     "output_type": "execute_result"
    }
   ],
   "source": [
    "data = pd.read_excel(\"/home/andreizoltan/ml/1/EnergyConsumption.xls\")\n",
    "print(\"Данные по энергопотреблению за {}\".format(data['Date'].max()-data['Date'].min()))\n",
    "data.head()"
   ]
  },
  {
   "cell_type": "code",
   "execution_count": 235,
   "metadata": {},
   "outputs": [],
   "source": [
    "n_train = int(0.8*data.shape[0])\n",
    "data_train = data[:n_train]\n",
    "data_test = data[n_train:]"
   ]
  },
  {
   "cell_type": "code",
   "execution_count": 319,
   "metadata": {},
   "outputs": [],
   "source": [
    "h_train = data_train['Hour'].apply(lambda x: x.hour)\n",
    "d_train = data_train['WeekDay']\n",
    "m_train = data_train['Date'].apply(lambda x: x.dayofyear)\n",
    "t_train = data_train['TemperatureC']\n",
    "y_train = data_train['ConsumprionMWtH']\n",
    "x_train = np.linspace(0, 1, y_train.shape[0])"
   ]
  },
  {
   "cell_type": "code",
   "execution_count": 320,
   "metadata": {},
   "outputs": [],
   "source": [
    "h_test = data_test['Hour'].apply(lambda x: x.hour)\n",
    "d_test = data_test['WeekDay']\n",
    "m_test = data_test['Date'].apply(lambda x: x.dayofyear)\n",
    "t_test = data_test['TemperatureC']\n",
    "y_test = data_test['ConsumprionMWtH']\n",
    "x_test = np.linspace(0, 1, y_train.shape[0])"
   ]
  },
  {
   "cell_type": "markdown",
   "metadata": {},
   "source": [
    "### нормировка"
   ]
  },
  {
   "cell_type": "code",
   "execution_count": 321,
   "metadata": {},
   "outputs": [],
   "source": [
    "h_train = (h_train - np.mean(h_train))/np.std(h_train)\n",
    "d_train = (d_train - np.mean(d_train))/np.std(d_train)\n",
    "m_train = (m_train - np.mean(m_train))/np.std(m_train)\n",
    "t_train = (t_train - np.mean(t_train))/np.std(t_train)\n",
    "y_train = (y_train - np.mean(y_train))/np.std(y_train)"
   ]
  },
  {
   "cell_type": "code",
   "execution_count": 322,
   "metadata": {},
   "outputs": [],
   "source": [
    "h_test = (h_test - np.mean(h_train))/np.std(h_train)\n",
    "d_test = (d_test - np.mean(d_train))/np.std(d_train)\n",
    "m_test = (m_test - np.mean(m_train))/np.std(m_train)\n",
    "t_test = (t_test - np.mean(t_train))/np.std(t_train)\n",
    "y_test = (y_test - np.mean(y_train))/np.std(y_train)"
   ]
  },
  {
   "cell_type": "code",
   "execution_count": 366,
   "metadata": {},
   "outputs": [],
   "source": [
    "A_train = get_model_matrix(h_train, d_train, m_train, t_train, holiday_train)\n",
    "A_test = get_model_matrix(h_test, d_test, m_test, t_test, holiday_test)"
   ]
  },
  {
   "cell_type": "code",
   "execution_count": 238,
   "metadata": {},
   "outputs": [],
   "source": [
    "def is_holiday(day):\n",
    "    russia_holidays = holidays.Russia()\n",
    "    day = day.date()\n",
    "    if day in russia_holidays:\n",
    "        return 1\n",
    "    else:\n",
    "        return -1"
   ]
  },
  {
   "cell_type": "code",
   "execution_count": 365,
   "metadata": {},
   "outputs": [],
   "source": [
    "ones = np.ones(y_train.shape[0])\n",
    "holiday_train = data['Date'][:x_train.shape[0]].apply(lambda x: is_holiday(x))\n",
    "holiday_test = data['Date'][x_train.shape[0]:].apply(lambda x: is_holiday(x))\n",
    "omega = 2*np.pi/(2/365)\n",
    "def get_model_matrix(h, d, m, t, holiday):\n",
    "    ones = np.ones(h.shape[0])\n",
    "    A = np.column_stack((ones, h, h**2, np.arcsinh(h), np.log(abs(h)), h*np.sqrt(abs(h)),\\\n",
    "                     sin(omega*h + 0.2), sin(omega*h/2), sin(omega*h*4),\\\n",
    "                     d, d**2, sin(327*d), sin(250*d),np.sin(29*d),\\\n",
    "                     m, m**2, m**3, sin(m), np.log(abs(m)+1),          \\\n",
    "                     t, t**3, np.sinh(t), np.log(abs(t)),\\\n",
    "                     holiday\n",
    "                     ))\n",
    "    return A"
   ]
  },
  {
   "cell_type": "code",
   "execution_count": 308,
   "metadata": {},
   "outputs": [],
   "source": [
    "B = get_model_matrix(h, d, m, t, holiday)"
   ]
  },
  {
   "cell_type": "markdown",
   "metadata": {},
   "source": [
    "### Let set the parameters of the algorithm"
   ]
  },
  {
   "cell_type": "code",
   "execution_count": 328,
   "metadata": {},
   "outputs": [],
   "source": [
    "P = 20\n",
    "Q = 5\n",
    "R = 40\n",
    "n = A_train.shape[1]"
   ]
  },
  {
   "cell_type": "markdown",
   "metadata": {},
   "source": [
    "### 1. Choose population"
   ]
  },
  {
   "cell_type": "code",
   "execution_count": 330,
   "metadata": {},
   "outputs": [],
   "source": [
    "A_population = np.random.randint(low=0, high=2, size=(P, n))"
   ]
  },
  {
   "cell_type": "markdown",
   "metadata": {},
   "source": [
    "### 2. get 2 vectors"
   ]
  },
  {
   "cell_type": "code",
   "execution_count": 331,
   "metadata": {},
   "outputs": [],
   "source": [
    "p, q = sample(range(n), 2)\n",
    "a, b = A_population[p], A_population[q]"
   ]
  },
  {
   "cell_type": "markdown",
   "metadata": {},
   "source": [
    "### 3. choose random number $\\nu$"
   ]
  },
  {
   "cell_type": "code",
   "execution_count": 332,
   "metadata": {},
   "outputs": [],
   "source": [
    "u = np.random.randint(n)"
   ]
  },
  {
   "cell_type": "markdown",
   "metadata": {},
   "source": [
    "### 4. split both vectors and change their parts"
   ]
  },
  {
   "cell_type": "code",
   "execution_count": 333,
   "metadata": {},
   "outputs": [],
   "source": [
    "def swap(a, b, u):\n",
    "    return np.concatenate((b[:u], a[u:])), np.concatenate((a[:u], b[u:]))"
   ]
  },
  {
   "cell_type": "code",
   "execution_count": 334,
   "metadata": {},
   "outputs": [],
   "source": [
    "a, b = swap(a, b, u)"
   ]
  },
  {
   "cell_type": "markdown",
   "metadata": {},
   "source": [
    "### 5. choose random numbers $\\eta_{1}, ..., \\eta_{Q}$"
   ]
  },
  {
   "cell_type": "code",
   "execution_count": 335,
   "metadata": {},
   "outputs": [],
   "source": [
    "ns = sample(range(n), Q)"
   ]
  },
  {
   "cell_type": "markdown",
   "metadata": {},
   "source": [
    "### 6. invert positions $\\eta_{1}, ..., \\eta_{Q}$ of the vectors a', b'"
   ]
  },
  {
   "cell_type": "code",
   "execution_count": 336,
   "metadata": {},
   "outputs": [],
   "source": [
    "def swap_positions(a, b, ns):\n",
    "    for i in ns:\n",
    "        a[i], b[i] = b[i], a[i]\n",
    "    return a, b"
   ]
  },
  {
   "cell_type": "code",
   "execution_count": 337,
   "metadata": {},
   "outputs": [],
   "source": [
    "a, b = swap_positions(a, b, ns)"
   ]
  },
  {
   "cell_type": "markdown",
   "metadata": {},
   "source": [
    "### 7. repeat 2-6 P/2 times"
   ]
  },
  {
   "cell_type": "code",
   "execution_count": 445,
   "metadata": {},
   "outputs": [],
   "source": [
    "def from2to6(A):\n",
    "    N = A.shape[0]\n",
    "    p, q = sample(range(N), 2)               # first step\n",
    "    a, b = A[p], A[q]\n",
    "    n = a.shape[0]\n",
    "    u = np.random.randint(n)                 # second step\n",
    "    a, b = swap(a, b, u)                     # third step\n",
    "    ns = sample(range(n), Q)                 # fourth step\n",
    "    a, b = swap_positions(a, b, ns)          # fifth step\n",
    "    return a, b"
   ]
  },
  {
   "cell_type": "markdown",
   "metadata": {},
   "source": [
    "### 8. evaluate obtained models and repeate R times"
   ]
  },
  {
   "cell_type": "code",
   "execution_count": 482,
   "metadata": {
    "scrolled": false
   },
   "outputs": [
    {
     "name": "stdout",
     "output_type": "stream",
     "text": [
      "1116.342987253135\n"
     ]
    },
    {
     "name": "stderr",
     "output_type": "stream",
     "text": [
      "/home/andreizoltan/anaconda3/lib/python3.6/site-packages/ipykernel_launcher.py:18: DeprecationWarning: using a non-integer array as obj in delete will result in an error in the future\n",
      "/home/andreizoltan/anaconda3/lib/python3.6/site-packages/ipykernel_launcher.py:18: DeprecationWarning: in the future out of bounds indices will raise an error instead of being ignored by `numpy.delete`.\n"
     ]
    },
    {
     "name": "stdout",
     "output_type": "stream",
     "text": [
      "1099.3622531822746\n",
      "1099.3622531822746\n",
      "1042.631833367263\n",
      "1005.1304848551599\n",
      "964.2715225858076\n",
      "747.833735952568\n",
      "736.3611777352338\n",
      "736.025134501349\n",
      "736.025134501349\n"
     ]
    }
   ],
   "source": [
    "A_population = np.random.randint(low=0, high=2, size=(P, n))\n",
    "R = 10\n",
    "error_plt = list()\n",
    "for i in range(R):\n",
    "    A_add = list()\n",
    "    for _ in range(int(P/2)):\n",
    "        a, b = from2to6(A_population)\n",
    "        A_add.append(a)\n",
    "        A_add.append(b)\n",
    "    A_population = np.vstack((A_population, A_add))\n",
    "    del_models = list()\n",
    "    for idx, j in enumerate(range(int(2*P))):\n",
    "        error = get_error(A_population[j]*A_train, A_test, y_train, y_test)\n",
    "        del_models.append([idx, error])\n",
    "    del_models = sorted(del_models, key=lambda x: x[1])\n",
    "    print(del_models[0][1])\n",
    "    error_plt.append(del_models[0][1])\n",
    "    A_population = np.delete(A_population, del_models[P:], axis=0)"
   ]
  },
  {
   "cell_type": "code",
   "execution_count": 485,
   "metadata": {},
   "outputs": [
    {
     "data": {
      "image/png": "[encoded data removed]",
      "text/plain": [
       "<Figure size 432x288 with 1 Axes>"
      ]
     },
     "metadata": {
      "needs_background": "light"
     },
     "output_type": "display_data"
    }
   ],
   "source": [
    "plt.scatter(range(R), error_plt)\n",
    "plt.xlabel(\"epoch\")\n",
    "plt.ylabel(\"mean squared error\")\n",
    "plt.show()"
   ]
  },
  {
   "cell_type": "code",
   "execution_count": null,
   "metadata": {},
   "outputs": [],
   "source": []
  }
 ],
 "metadata": {
  "kernelspec": {
   "display_name": "Python 3",
   "language": "python",
   "name": "python3"
  },
  "language_info": {
   "codemirror_mode": {
    "name": "ipython",
    "version": 3
   },
   "file_extension": ".py",
   "mimetype": "text/x-python",
   "name": "python",
   "nbconvert_exporter": "python",
   "pygments_lexer": "ipython3",
   "version": "3.6.8"
  }
 },
 "nbformat": 4,
 "nbformat_minor": 2
}
