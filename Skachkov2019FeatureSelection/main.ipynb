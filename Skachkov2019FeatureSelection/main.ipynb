{
 "cells": [
  {
   "cell_type": "code",
   "execution_count": 99,
   "metadata": {},
   "outputs": [],
   "source": [
    "import numpy as np\n",
    "import pandas as pd\n",
    "from matplotlib import pylab as plt"
   ]
  },
  {
   "cell_type": "code",
   "execution_count": 100,
   "metadata": {},
   "outputs": [],
   "source": [
    "data = pd.read_csv('Metro_Interstate_Traffic_Volume.csv')"
   ]
  },
  {
   "cell_type": "markdown",
   "metadata": {},
   "source": [
    "Т.к. мы хотим использовать линейную регрессию, попытаемся представить все признаки в виде чисел. Прежде всего отрешемся от бренной сущности праздников, преобразовав этот признак в бинарный (т.е. нас будет интересовать лишь наличие праздника, а не его конкретное название)."
   ]
  },
  {
   "cell_type": "code",
   "execution_count": 101,
   "metadata": {},
   "outputs": [],
   "source": [
    "def convert_holiday(x):\n",
    "    if x == 'None':\n",
    "        return 0\n",
    "    return 1\n",
    "\n",
    "data.holiday = [convert_holiday(x) for x in data.holiday]"
   ]
  },
  {
   "cell_type": "code",
   "execution_count": 103,
   "metadata": {},
   "outputs": [
    {
     "name": "stdout",
     "output_type": "stream",
     "text": [
      "{'Rain', 'Thunderstorm', 'Fog', 'Clouds', 'Clear', 'Squall', 'Smoke', 'Haze', 'Mist', 'Drizzle', 'Snow'}\n"
     ]
    }
   ],
   "source": [
    "weather_types = set(data.weather_main)\n",
    "print(weather_types)"
   ]
  },
  {
   "cell_type": "code",
   "execution_count": 104,
   "metadata": {},
   "outputs": [],
   "source": [
    "weather_to_num = dict()\n",
    "weather_to_num['Clear'] = 0\n",
    "weather_to_num['Clouds'] = 1\n",
    "weather_to_num['Mist'] = 1\n",
    "weather_to_num['Smoke'] = 1\n",
    "weather_to_num['Haze'] = 1\n",
    "weather_to_num['Fog'] = 2\n",
    "weather_to_num['Snow'] = 2\n",
    "weather_to_num['Drizzle'] = 2\n",
    "weather_to_num['Rain'] = 3\n",
    "weather_to_num['Thunderstorm'] = 4\n",
    "weather_to_num['Squall'] = 5\n",
    "\n",
    "data.weather_main = [weather_to_num[x] for x in data.weather_main]\n",
    "data = data.drop('weather_description', axis = 1)"
   ]
  },
  {
   "cell_type": "code",
   "execution_count": 105,
   "metadata": {},
   "outputs": [
    {
     "data": {
      "text/html": [
       "<div>\n",
       "<style scoped>\n",
       "    .dataframe tbody tr th:only-of-type {\n",
       "        vertical-align: middle;\n",
       "    }\n",
       "\n",
       "    .dataframe tbody tr th {\n",
       "        vertical-align: top;\n",
       "    }\n",
       "\n",
       "    .dataframe thead th {\n",
       "        text-align: right;\n",
       "    }\n",
       "</style>\n",
       "<table border=\"1\" class=\"dataframe\">\n",
       "  <thead>\n",
       "    <tr style=\"text-align: right;\">\n",
       "      <th></th>\n",
       "      <th>holiday</th>\n",
       "      <th>temp</th>\n",
       "      <th>rain_1h</th>\n",
       "      <th>snow_1h</th>\n",
       "      <th>clouds_all</th>\n",
       "      <th>weather_main</th>\n",
       "      <th>date_time</th>\n",
       "      <th>traffic_volume</th>\n",
       "    </tr>\n",
       "  </thead>\n",
       "  <tbody>\n",
       "    <tr>\n",
       "      <th>0</th>\n",
       "      <td>0</td>\n",
       "      <td>288.28</td>\n",
       "      <td>0.0</td>\n",
       "      <td>0.0</td>\n",
       "      <td>40</td>\n",
       "      <td>1</td>\n",
       "      <td>2012-10-02 09:00:00</td>\n",
       "      <td>5545</td>\n",
       "    </tr>\n",
       "    <tr>\n",
       "      <th>1</th>\n",
       "      <td>0</td>\n",
       "      <td>289.36</td>\n",
       "      <td>0.0</td>\n",
       "      <td>0.0</td>\n",
       "      <td>75</td>\n",
       "      <td>1</td>\n",
       "      <td>2012-10-02 10:00:00</td>\n",
       "      <td>4516</td>\n",
       "    </tr>\n",
       "    <tr>\n",
       "      <th>2</th>\n",
       "      <td>0</td>\n",
       "      <td>289.58</td>\n",
       "      <td>0.0</td>\n",
       "      <td>0.0</td>\n",
       "      <td>90</td>\n",
       "      <td>1</td>\n",
       "      <td>2012-10-02 11:00:00</td>\n",
       "      <td>4767</td>\n",
       "    </tr>\n",
       "    <tr>\n",
       "      <th>3</th>\n",
       "      <td>0</td>\n",
       "      <td>290.13</td>\n",
       "      <td>0.0</td>\n",
       "      <td>0.0</td>\n",
       "      <td>90</td>\n",
       "      <td>1</td>\n",
       "      <td>2012-10-02 12:00:00</td>\n",
       "      <td>5026</td>\n",
       "    </tr>\n",
       "    <tr>\n",
       "      <th>4</th>\n",
       "      <td>0</td>\n",
       "      <td>291.14</td>\n",
       "      <td>0.0</td>\n",
       "      <td>0.0</td>\n",
       "      <td>75</td>\n",
       "      <td>1</td>\n",
       "      <td>2012-10-02 13:00:00</td>\n",
       "      <td>4918</td>\n",
       "    </tr>\n",
       "    <tr>\n",
       "      <th>5</th>\n",
       "      <td>0</td>\n",
       "      <td>291.72</td>\n",
       "      <td>0.0</td>\n",
       "      <td>0.0</td>\n",
       "      <td>1</td>\n",
       "      <td>0</td>\n",
       "      <td>2012-10-02 14:00:00</td>\n",
       "      <td>5181</td>\n",
       "    </tr>\n",
       "    <tr>\n",
       "      <th>6</th>\n",
       "      <td>0</td>\n",
       "      <td>293.17</td>\n",
       "      <td>0.0</td>\n",
       "      <td>0.0</td>\n",
       "      <td>1</td>\n",
       "      <td>0</td>\n",
       "      <td>2012-10-02 15:00:00</td>\n",
       "      <td>5584</td>\n",
       "    </tr>\n",
       "    <tr>\n",
       "      <th>7</th>\n",
       "      <td>0</td>\n",
       "      <td>293.86</td>\n",
       "      <td>0.0</td>\n",
       "      <td>0.0</td>\n",
       "      <td>1</td>\n",
       "      <td>0</td>\n",
       "      <td>2012-10-02 16:00:00</td>\n",
       "      <td>6015</td>\n",
       "    </tr>\n",
       "    <tr>\n",
       "      <th>8</th>\n",
       "      <td>0</td>\n",
       "      <td>294.14</td>\n",
       "      <td>0.0</td>\n",
       "      <td>0.0</td>\n",
       "      <td>20</td>\n",
       "      <td>1</td>\n",
       "      <td>2012-10-02 17:00:00</td>\n",
       "      <td>5791</td>\n",
       "    </tr>\n",
       "    <tr>\n",
       "      <th>9</th>\n",
       "      <td>0</td>\n",
       "      <td>293.10</td>\n",
       "      <td>0.0</td>\n",
       "      <td>0.0</td>\n",
       "      <td>20</td>\n",
       "      <td>1</td>\n",
       "      <td>2012-10-02 18:00:00</td>\n",
       "      <td>4770</td>\n",
       "    </tr>\n",
       "  </tbody>\n",
       "</table>\n",
       "</div>"
      ],
      "text/plain": [
       "   holiday    temp  rain_1h  snow_1h  clouds_all  weather_main  \\\n",
       "0        0  288.28      0.0      0.0          40             1   \n",
       "1        0  289.36      0.0      0.0          75             1   \n",
       "2        0  289.58      0.0      0.0          90             1   \n",
       "3        0  290.13      0.0      0.0          90             1   \n",
       "4        0  291.14      0.0      0.0          75             1   \n",
       "5        0  291.72      0.0      0.0           1             0   \n",
       "6        0  293.17      0.0      0.0           1             0   \n",
       "7        0  293.86      0.0      0.0           1             0   \n",
       "8        0  294.14      0.0      0.0          20             1   \n",
       "9        0  293.10      0.0      0.0          20             1   \n",
       "\n",
       "             date_time  traffic_volume  \n",
       "0  2012-10-02 09:00:00            5545  \n",
       "1  2012-10-02 10:00:00            4516  \n",
       "2  2012-10-02 11:00:00            4767  \n",
       "3  2012-10-02 12:00:00            5026  \n",
       "4  2012-10-02 13:00:00            4918  \n",
       "5  2012-10-02 14:00:00            5181  \n",
       "6  2012-10-02 15:00:00            5584  \n",
       "7  2012-10-02 16:00:00            6015  \n",
       "8  2012-10-02 17:00:00            5791  \n",
       "9  2012-10-02 18:00:00            4770  "
      ]
     },
     "execution_count": 105,
     "metadata": {},
     "output_type": "execute_result"
    }
   ],
   "source": [
    "data.head(10)"
   ]
  },
  {
   "cell_type": "code",
   "execution_count": 106,
   "metadata": {},
   "outputs": [
    {
     "data": {
      "text/html": [
       "<div>\n",
       "<style scoped>\n",
       "    .dataframe tbody tr th:only-of-type {\n",
       "        vertical-align: middle;\n",
       "    }\n",
       "\n",
       "    .dataframe tbody tr th {\n",
       "        vertical-align: top;\n",
       "    }\n",
       "\n",
       "    .dataframe thead th {\n",
       "        text-align: right;\n",
       "    }\n",
       "</style>\n",
       "<table border=\"1\" class=\"dataframe\">\n",
       "  <thead>\n",
       "    <tr style=\"text-align: right;\">\n",
       "      <th></th>\n",
       "      <th>holiday</th>\n",
       "      <th>temp</th>\n",
       "      <th>rain_1h</th>\n",
       "      <th>snow_1h</th>\n",
       "      <th>clouds_all</th>\n",
       "      <th>weather_main</th>\n",
       "      <th>traffic_volume</th>\n",
       "      <th>month</th>\n",
       "      <th>hour</th>\n",
       "    </tr>\n",
       "  </thead>\n",
       "  <tbody>\n",
       "    <tr>\n",
       "      <th>0</th>\n",
       "      <td>0</td>\n",
       "      <td>288.28</td>\n",
       "      <td>0.0</td>\n",
       "      <td>0.0</td>\n",
       "      <td>40</td>\n",
       "      <td>1</td>\n",
       "      <td>5545</td>\n",
       "      <td>10</td>\n",
       "      <td>9</td>\n",
       "    </tr>\n",
       "    <tr>\n",
       "      <th>1</th>\n",
       "      <td>0</td>\n",
       "      <td>289.36</td>\n",
       "      <td>0.0</td>\n",
       "      <td>0.0</td>\n",
       "      <td>75</td>\n",
       "      <td>1</td>\n",
       "      <td>4516</td>\n",
       "      <td>10</td>\n",
       "      <td>10</td>\n",
       "    </tr>\n",
       "    <tr>\n",
       "      <th>2</th>\n",
       "      <td>0</td>\n",
       "      <td>289.58</td>\n",
       "      <td>0.0</td>\n",
       "      <td>0.0</td>\n",
       "      <td>90</td>\n",
       "      <td>1</td>\n",
       "      <td>4767</td>\n",
       "      <td>10</td>\n",
       "      <td>11</td>\n",
       "    </tr>\n",
       "    <tr>\n",
       "      <th>3</th>\n",
       "      <td>0</td>\n",
       "      <td>290.13</td>\n",
       "      <td>0.0</td>\n",
       "      <td>0.0</td>\n",
       "      <td>90</td>\n",
       "      <td>1</td>\n",
       "      <td>5026</td>\n",
       "      <td>10</td>\n",
       "      <td>12</td>\n",
       "    </tr>\n",
       "    <tr>\n",
       "      <th>4</th>\n",
       "      <td>0</td>\n",
       "      <td>291.14</td>\n",
       "      <td>0.0</td>\n",
       "      <td>0.0</td>\n",
       "      <td>75</td>\n",
       "      <td>1</td>\n",
       "      <td>4918</td>\n",
       "      <td>10</td>\n",
       "      <td>13</td>\n",
       "    </tr>\n",
       "    <tr>\n",
       "      <th>5</th>\n",
       "      <td>0</td>\n",
       "      <td>291.72</td>\n",
       "      <td>0.0</td>\n",
       "      <td>0.0</td>\n",
       "      <td>1</td>\n",
       "      <td>0</td>\n",
       "      <td>5181</td>\n",
       "      <td>10</td>\n",
       "      <td>14</td>\n",
       "    </tr>\n",
       "    <tr>\n",
       "      <th>6</th>\n",
       "      <td>0</td>\n",
       "      <td>293.17</td>\n",
       "      <td>0.0</td>\n",
       "      <td>0.0</td>\n",
       "      <td>1</td>\n",
       "      <td>0</td>\n",
       "      <td>5584</td>\n",
       "      <td>10</td>\n",
       "      <td>15</td>\n",
       "    </tr>\n",
       "    <tr>\n",
       "      <th>7</th>\n",
       "      <td>0</td>\n",
       "      <td>293.86</td>\n",
       "      <td>0.0</td>\n",
       "      <td>0.0</td>\n",
       "      <td>1</td>\n",
       "      <td>0</td>\n",
       "      <td>6015</td>\n",
       "      <td>10</td>\n",
       "      <td>16</td>\n",
       "    </tr>\n",
       "    <tr>\n",
       "      <th>8</th>\n",
       "      <td>0</td>\n",
       "      <td>294.14</td>\n",
       "      <td>0.0</td>\n",
       "      <td>0.0</td>\n",
       "      <td>20</td>\n",
       "      <td>1</td>\n",
       "      <td>5791</td>\n",
       "      <td>10</td>\n",
       "      <td>17</td>\n",
       "    </tr>\n",
       "    <tr>\n",
       "      <th>9</th>\n",
       "      <td>0</td>\n",
       "      <td>293.10</td>\n",
       "      <td>0.0</td>\n",
       "      <td>0.0</td>\n",
       "      <td>20</td>\n",
       "      <td>1</td>\n",
       "      <td>4770</td>\n",
       "      <td>10</td>\n",
       "      <td>18</td>\n",
       "    </tr>\n",
       "  </tbody>\n",
       "</table>\n",
       "</div>"
      ],
      "text/plain": [
       "   holiday    temp  rain_1h  snow_1h  clouds_all  weather_main  \\\n",
       "0        0  288.28      0.0      0.0          40             1   \n",
       "1        0  289.36      0.0      0.0          75             1   \n",
       "2        0  289.58      0.0      0.0          90             1   \n",
       "3        0  290.13      0.0      0.0          90             1   \n",
       "4        0  291.14      0.0      0.0          75             1   \n",
       "5        0  291.72      0.0      0.0           1             0   \n",
       "6        0  293.17      0.0      0.0           1             0   \n",
       "7        0  293.86      0.0      0.0           1             0   \n",
       "8        0  294.14      0.0      0.0          20             1   \n",
       "9        0  293.10      0.0      0.0          20             1   \n",
       "\n",
       "   traffic_volume  month  hour  \n",
       "0            5545     10     9  \n",
       "1            4516     10    10  \n",
       "2            4767     10    11  \n",
       "3            5026     10    12  \n",
       "4            4918     10    13  \n",
       "5            5181     10    14  \n",
       "6            5584     10    15  \n",
       "7            6015     10    16  \n",
       "8            5791     10    17  \n",
       "9            4770     10    18  "
      ]
     },
     "execution_count": 106,
     "metadata": {},
     "output_type": "execute_result"
    }
   ],
   "source": [
    "def datetime_hour(s):\n",
    "    x = s.split(' ')\n",
    "    y = x[1].split(':')\n",
    "    return int(y[0])\n",
    "\n",
    "def datetime_month(s):\n",
    "    x = s.split(' ')\n",
    "    y = x[0].split('-')\n",
    "    return int(y[1])\n",
    "\n",
    "\n",
    "data['month'] = [datetime_month(x) for x in data.date_time]\n",
    "data['hour'] = [datetime_hour(x) for x in data.date_time]\n",
    "data = data.drop('date_time', axis = 1)\n",
    "data.head(10)"
   ]
  },
  {
   "cell_type": "markdown",
   "metadata": {},
   "source": [
    "Итак, мы несколько огрубили нашу изначальную модель, будем надеяться, что ничего плохого не случится (в любом случае самостоятельно повторять не рекомендуется). Продолжим."
   ]
  },
  {
   "cell_type": "code",
   "execution_count": 107,
   "metadata": {},
   "outputs": [],
   "source": [
    "X = data.drop('traffic_volume', axis = 1).to_numpy()"
   ]
  },
  {
   "cell_type": "code",
   "execution_count": 109,
   "metadata": {},
   "outputs": [],
   "source": [
    "y = data.traffic_volume.to_numpy()"
   ]
  },
  {
   "cell_type": "code",
   "execution_count": 110,
   "metadata": {},
   "outputs": [],
   "source": [
    "means = X.mean(axis = 0)\n",
    "stds = X.std(axis = 0)\n",
    "X = np.array([(np.array(x) - means)/stds for x in X])"
   ]
  },
  {
   "cell_type": "code",
   "execution_count": 111,
   "metadata": {},
   "outputs": [],
   "source": [
    "X = np.append(np.append(X, X**2, axis = 1), np.sin(X), axis = 1)"
   ]
  },
  {
   "cell_type": "markdown",
   "metadata": {},
   "source": [
    "Признаки отнормированы, пока всё хорошо. Но не слишком ли их много? Например, есть подозрение, что month, hour и temp довольно сильно взаимосвязаны и какой-то из них можно выкинуть."
   ]
  },
  {
   "cell_type": "code",
   "execution_count": 112,
   "metadata": {},
   "outputs": [
    {
     "name": "stdout",
     "output_type": "stream",
     "text": [
      "48204\n"
     ]
    }
   ],
   "source": [
    "print(len(X))"
   ]
  },
  {
   "cell_type": "markdown",
   "metadata": {},
   "source": [
    "Как видим, объектов много. Поэтому сделаем максимально тупо: разобьем выборку на обучающую и тестовую случайным образом, надеясь, что при таких объемах мы не получим плохого (концентрированного) разбиения."
   ]
  },
  {
   "cell_type": "code",
   "execution_count": 113,
   "metadata": {},
   "outputs": [],
   "source": [
    "train_ids = np.random.choice(len(X), int(len(X)*0.7), replace = False)\n",
    "control_ids = set(np.arange(len(X))) - set(train_ids)\n",
    "X_train = np.array([X[i] for i in train_ids])\n",
    "y_train = np.array([y[i] for i in train_ids])\n",
    "X_control = np.array([X[i] for i in control_ids])\n",
    "y_control = np.array([y[i] for i in control_ids])"
   ]
  },
  {
   "cell_type": "markdown",
   "metadata": {},
   "source": [
    "Давайте попробуем реализовать add-del алгоритм."
   ]
  },
  {
   "cell_type": "code",
   "execution_count": 114,
   "metadata": {},
   "outputs": [],
   "source": [
    "def mserror(y, y_pred):\n",
    "    return np.mean((y - y_pred)**2)\n",
    "\n",
    "def add_ones(X):\n",
    "    #print type(X)\n",
    "    return np.append(X, np.ones((np.size(X, axis = 0), 1)), axis = 1)\n",
    "\n",
    "def add_del(X_train, y_train, X_control, y_control, steps_after_best = 4, do_all_iterations = False):\n",
    "    global Y\n",
    "    selected_ids = set()\n",
    "    remained_ids = set(np.arange(np.size(X_train, axis = 1)))\n",
    "    iteration = 0\n",
    "    best_res = np.inf\n",
    "    best_res_it = 0\n",
    "    best_ids = set()\n",
    "    while True:\n",
    "        iteration += 1\n",
    "        if len(remained_ids) == 0:\n",
    "            return selected_ids\n",
    "        if not do_all_iterations:\n",
    "            if iteration - best_res_it == steps_after_best:\n",
    "                return best_ids\n",
    "        if iteration%3 != 0:\n",
    "            min_id = -1\n",
    "            min_err = np.inf\n",
    "            for i in remained_ids:\n",
    "                selected_ids.add(i)\n",
    "                new_X_train = X_train[:, list(selected_ids)]\n",
    "                new_X_control = X_control[:, list(selected_ids)]\n",
    "                selected_ids.remove(i)\n",
    "                new_X_train = add_ones(new_X_train)\n",
    "                new_X_control = add_ones(new_X_control)\n",
    "                w = np.dot(np.linalg.pinv(new_X_train), y_train)\n",
    "                err = mserror(y_control, np.dot(new_X_control, w))\n",
    "                if err < min_err:\n",
    "                    min_err = err\n",
    "                    min_id = i\n",
    "            selected_ids.add(min_id)\n",
    "            remained_ids.remove(min_id)\n",
    "            if best_res > min_err:\n",
    "                best_res_it = iteration\n",
    "                best_res = min_err\n",
    "                best_ids = selected_ids\n",
    "            Y.append(min_err)\n",
    "        else:\n",
    "            min_id = -1\n",
    "            min_err = np.inf\n",
    "            for i in selected_ids:\n",
    "                selected_ids.remove(i)\n",
    "                new_X_train = X_train[:, list(selected_ids)]\n",
    "                new_X_control = X_control[:, list(selected_ids)]\n",
    "                selected_ids.add(i)\n",
    "                new_X_train = add_ones(new_X_train)\n",
    "                new_X_control = add_ones(new_X_control)\n",
    "                w = np.dot(np.linalg.pinv(new_X_train), y_train)\n",
    "                err = mserror(y_control, np.dot(new_X_control, w))\n",
    "                if err < min_err:\n",
    "                    min_err = err\n",
    "                    min_id = i\n",
    "            remained_ids.add(min_id)\n",
    "            selected_ids.remove(min_id)\n",
    "            \n",
    "            if best_res > min_err:\n",
    "                best_res_it = iteration\n",
    "                best_res = min_err\n",
    "                best_ids = selected_ids\n",
    "            Y.append(min_err)\n",
    "                "
   ]
  },
  {
   "cell_type": "code",
   "execution_count": 115,
   "metadata": {},
   "outputs": [
    {
     "data": {
      "text/plain": [
       "[<matplotlib.lines.Line2D at 0x7f3d392f90f0>]"
      ]
     },
     "execution_count": 115,
     "metadata": {},
     "output_type": "execute_result"
    },
    {
     "data": {
      "image/png": "[encoded data removed]",
      "text/plain": [
       "<Figure size 432x288 with 1 Axes>"
      ]
     },
     "metadata": {
      "needs_background": "light"
     },
     "output_type": "display_data"
    }
   ],
   "source": [
    "Y = []\n",
    "add_del(X_train, y_train, X_control, y_control, do_all_iterations=True)\n",
    "plt.plot(range(len(Y)), Y)"
   ]
  },
  {
   "cell_type": "markdown",
   "metadata": {},
   "source": [
    "Как видим, примерно после десятой итерации улучшений почти нет. Тем не менее, если запустить алгоритм, убрав флаг do_all_iterations, то можно заметить, что добавление новых признаков все равно продолжает улучшать результат на тестовой (!) выборке, т.е. переобучения никакого не наблюдается и все очень даже хорошо."
   ]
  },
  {
   "cell_type": "code",
   "execution_count": 116,
   "metadata": {},
   "outputs": [
    {
     "data": {
      "text/plain": [
       "[<matplotlib.lines.Line2D at 0x7f3d3b8a3358>]"
      ]
     },
     "execution_count": 116,
     "metadata": {},
     "output_type": "execute_result"
    },
    {
     "data": {
      "image/png": "[encoded data removed]",
      "text/plain": [
       "<Figure size 432x288 with 1 Axes>"
      ]
     },
     "metadata": {
      "needs_background": "light"
     },
     "output_type": "display_data"
    }
   ],
   "source": [
    "Y = []\n",
    "add_del(X_train, y_train, X_control, y_control)\n",
    "plt.plot(range(len(Y)), Y)"
   ]
  },
  {
   "cell_type": "markdown",
   "metadata": {},
   "source": [
    "Алгоритм проделал чуть более 50 итераций. Это меньше, чем в прошлый раз. Т.е. с этого момента результаты перестали улучшаться от слова совсем. На самом деле они практически перестали улучшаться на 10-й итерации (но всё же продолжали!)"
   ]
  },
  {
   "cell_type": "markdown",
   "metadata": {},
   "source": [
    "Возможно, в дальнейшем имеет смысл установить некоторое эпсилон, так что если ошибка уменьшается меньше, чем на это эпсилон, то отбор признаков уменьшается, потому что такое незначительное улучшение не стоит вычислительных затрат (чем больше признаков, тем большие матрицы нам нужно будет перемножать). Но с точки зрения самой ф-ции отбора ошибок в этом большого смысла нет, ведь хоть и медленно, но рез-ты продолжают улучшаться. Тут всё зависит уже от того, за чем вы гонитесь: за скоростью работы или за точностью?"
   ]
  }
 ],
 "metadata": {
  "kernelspec": {
   "display_name": "Python 3",
   "language": "python",
   "name": "python3"
  },
  "language_info": {
   "codemirror_mode": {
    "name": "ipython",
    "version": 3
   },
   "file_extension": ".py",
   "mimetype": "text/x-python",
   "name": "python",
   "nbconvert_exporter": "python",
   "pygments_lexer": "ipython3",
   "version": "3.6.8"
  }
 },
 "nbformat": 4,
 "nbformat_minor": 2
}
